{
 "cells": [
  {
   "cell_type": "markdown",
   "metadata": {},
   "source": [
    "# STT\n",
    "\n",
    "- 참고 사이트\n",
    "\n",
    "    https://ai-creator.tistory.com/59\n",
    "\n",
    "    https://pypi.org/project/SpeechRecognition/\n",
    "\n",
    "- Installation\n",
    "\n",
    "    pip install SpeechRecognition\n",
    "\n",
    "    pip install pyaudio"
   ]
  },
  {
   "cell_type": "code",
   "execution_count": null,
   "metadata": {},
   "outputs": [],
   "source": [
    "\n",
    "def STT(Debug, Language):\n",
    "    import speech_recognition as sr\n",
    "\n",
    "    # Record Audio\n",
    "    r = sr.Recognizer()\n",
    "    with sr.Microphone() as source:\n",
    "        if (Debug == True) : print(\"I'm Listning...\")\n",
    "        audio = r.listen(source)\n",
    "\n",
    "    STT_ERROR = True\n",
    "    \n",
    "    while(STT_ERROR):\n",
    "        try:\n",
    "            Input_Text = r.recognize_google(audio, language=Language)\n",
    "            STT_ERROR = False\n",
    "            if (Debug == True) : print(\"You said: \" + Input_Text)\n",
    "            return Input_Text, STT_ERROR\n",
    "\n",
    "        except sr.UnknownValueError:  \n",
    "            # 음성이 인식되지 않았을 때\n",
    "            Input_Text = \"Function_Error_1\"\n",
    "            if (Debug == True) : print(Input_Text)\n",
    "            STT_ERROR = True\n",
    "            return Input_Text, STT_ERROR\n",
    "            \n",
    "        except sr.RequestError:\n",
    "            # 구글 서버와 통신이 되지 않았을 때\n",
    "            Input_Text = \"Function_Error_2\"\n",
    "            if (Debug == True) : print(Input_Text)\n",
    "            STT_ERROR = True\n",
    "            return Input_Text, STT_ERROR\n"
   ]
  },
  {
   "cell_type": "code",
   "execution_count": null,
   "metadata": {},
   "outputs": [],
   "source": [
    "STT(True, 'ko-KR')"
   ]
  }
 ],
 "metadata": {
  "interpreter": {
   "hash": "478bb4a894d48d28e226bca91ab202dc7c85ddb78042a3f39231b8338f8d6883"
  },
  "kernelspec": {
   "display_name": "Python 3.10.1 64-bit",
   "language": "python",
   "name": "python3"
  },
  "language_info": {
   "codemirror_mode": {
    "name": "ipython",
    "version": 3
   },
   "file_extension": ".py",
   "mimetype": "text/x-python",
   "name": "python",
   "nbconvert_exporter": "python",
   "pygments_lexer": "ipython3",
   "version": "3.9.2"
  },
  "orig_nbformat": 4
 },
 "nbformat": 4,
 "nbformat_minor": 2
}
